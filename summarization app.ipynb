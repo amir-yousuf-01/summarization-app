{
 "cells": [
  {
   "cell_type": "code",
   "execution_count": 37,
   "id": "027ef8c2",
   "metadata": {},
   "outputs": [],
   "source": [
    "import nltk\n",
    "from nltk.corpus import stopwords\n",
    "from nltk.tokenize import word_tokenize, sent_tokenize \n",
    "from nltk.stem import WordNetLemmatizer\n",
    "import tkinter as tk\n",
    "from tkinter import scrolledtext"
   ]
  },
  {
   "cell_type": "markdown",
   "id": "411b86a5",
   "metadata": {},
   "source": [
    "Initialize lemmatizer"
   ]
  },
  {
   "cell_type": "code",
   "execution_count": 38,
   "id": "a2212c32",
   "metadata": {},
   "outputs": [],
   "source": [
    "lemmatizer = WordNetLemmatizer()                 "
   ]
  },
  {
   "cell_type": "markdown",
   "id": "f17ff240",
   "metadata": {},
   "source": [
    "Summarizes input text by extracting the most important sentences\n"
   ]
  },
  {
   "cell_type": "code",
   "execution_count": 42,
   "id": "998820ae",
   "metadata": {},
   "outputs": [],
   "source": [
    "def summarize_text(text, summary_length=3):\n",
    "    if not text.strip():\n",
    "        return \"Please enter some text to summarize.\"\n",
    "    \n",
    "    sentences = sent_tokenize(text)\n",
    "    if not sentences:\n",
    "        return \"No valid sentences found in the input.\"\n",
    "    \n",
    "    stop_words = set(stopwords.words('english'))\n",
    "    \n",
    "    freq_table = {}\n",
    "    for sentence in sentences:\n",
    "        for word in word_tokenize(sentence.lower()):\n",
    "            if word.isalpha() and word not in stop_words:\n",
    "                lemma = lemmatizer.lemmatize(word)\n",
    "                freq_table[lemma] = freq_table.get(lemma, 0) + 1\n",
    "\n",
    "    sentence_scores = {}\n",
    "    for sentence in sentences:\n",
    "        word_count = 0\n",
    "        total_score = 0\n",
    "        for word in word_tokenize(sentence.lower()):\n",
    "            if word.isalpha() and word not in stop_words:\n",
    "                lemma = lemmatizer.lemmatize(word)\n",
    "                total_score += freq_table.get(lemma, 0)\n",
    "                word_count += 1\n",
    "        if word_count > 0:\n",
    "            sentence_scores[sentence] = total_score / word_count\n",
    "    \n",
    "    top_sentences = sorted(sentence_scores, key=sentence_scores.get, reverse=True)[:summary_length]\n",
    "    return ' '.join(top_sentences) if top_sentences else \"No sentences to summarize.\""
   ]
  },
  {
   "cell_type": "markdown",
   "id": "ff6028a4",
   "metadata": {},
   "source": [
    "Tkinter GUI setup"
   ]
  },
  {
   "cell_type": "code",
   "execution_count": null,
   "id": "d8129a56",
   "metadata": {},
   "outputs": [],
   "source": [
    "def summarize_button_click():\n",
    "    input_content = input_text.get(\"1.0\", tk.END).strip()\n",
    "    summary = summarize_text(input_content)\n",
    "\n",
    "    output_text.delete(\"1.0\", tk.END)\n",
    "    output_text.insert(tk.END, summary)\n"
   ]
  },
  {
   "cell_type": "markdown",
   "id": "e2e1a200",
   "metadata": {},
   "source": [
    "Create Tkinter window\n"
   ]
  },
  {
   "cell_type": "code",
   "execution_count": null,
   "id": "aa4d26aa",
   "metadata": {},
   "outputs": [],
   "source": [
    "root = tk.Tk()\n",
    "root.title(\"Topic Summarization\")\n",
    "root.geometry(\"500x600\") \n",
    "\n",
    "tk.Label(root, text=\"Enter Topics or Sentences:\").pack(anchor='w', padx=5, pady=5)\n",
    "input_text = scrolledtext.ScrolledText(root, width=50, height=8)\n",
    "input_text.pack(padx=5, pady=5)\n",
    "\n",
    "tk.Button(root, text=\"Summarize\", command=summarize_button_click).pack(pady=5)\n",
    "\n",
    "tk.Label(root, text=\"Summarized Text:\").pack(anchor='w', padx=5, pady=5)\n",
    "output_text = scrolledtext.ScrolledText(root, width=50, height=8, fg='blue')\n",
    "output_text.pack(padx=5, pady=5)\n",
    "\n",
    "root.mainloop()"
   ]
  }
 ],
 "metadata": {
  "kernelspec": {
   "display_name": "Python 3",
   "language": "python",
   "name": "python3"
  },
  "language_info": {
   "codemirror_mode": {
    "name": "ipython",
    "version": 3
   },
   "file_extension": ".py",
   "mimetype": "text/x-python",
   "name": "python",
   "nbconvert_exporter": "python",
   "pygments_lexer": "ipython3",
   "version": "3.13.3"
  }
 },
 "nbformat": 4,
 "nbformat_minor": 5
}
